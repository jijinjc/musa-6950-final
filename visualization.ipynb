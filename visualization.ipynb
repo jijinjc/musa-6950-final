{
 "cells": [
  {
   "cell_type": "markdown",
   "id": "4b46b4c4",
   "metadata": {},
   "source": [
    "## Visualizing Results"
   ]
  },
  {
   "cell_type": "code",
   "execution_count": 6,
   "id": "faa8cb7a",
   "metadata": {},
   "outputs": [],
   "source": [
    "import os\n",
    "import pandas as pd\n",
    "import matplotlib.pyplot as plt\n",
    "import re\n",
    "from typing import Dict, List, Tuple, Set, Optional"
   ]
  },
  {
   "cell_type": "code",
   "execution_count": 7,
   "id": "ed7fb378",
   "metadata": {},
   "outputs": [
    {
     "data": {
      "text/plain": [
       "'c:\\\\Users\\\\super\\\\Downloads\\\\School Work\\\\MUSA 6950\\\\Final\\\\musa-6950-final'"
      ]
     },
     "execution_count": 7,
     "metadata": {},
     "output_type": "execute_result"
    }
   ],
   "source": [
    "pwd"
   ]
  },
  {
   "cell_type": "code",
   "execution_count": 8,
   "id": "c3c94a8b",
   "metadata": {},
   "outputs": [],
   "source": [
    "def process_csv_files(folder_path: str):\n",
    "    \"\"\"Process all CSV files in folder and extract summary data.\"\"\"\n",
    "    total_counts = {}\n",
    "    averages = {}\n",
    "    classes = set()\n",
    "    pattern = re.compile(r'ep(\\d+)_summary\\.csv')\n",
    "\n",
    "    for filename in os.listdir(folder_path):\n",
    "        match = pattern.match(filename)\n",
    "        if not match:\n",
    "            continue\n",
    "\n",
    "        try:\n",
    "            ep_num = int(match.group(1))\n",
    "            filepath = os.path.join(folder_path, filename)\n",
    "            df = pd.read_csv(filepath)\n",
    "\n",
    "            if 'total_count' not in df.columns or 'average_per_image' not in df.columns:\n",
    "                continue\n",
    "\n",
    "            for _, row in df.iterrows():\n",
    "                class_name = row.iloc[0]\n",
    "                classes.add(class_name)\n",
    "                \n",
    "                total_counts.setdefault(class_name, []).append((ep_num, row['total_count']))\n",
    "                averages.setdefault(class_name, []).append((ep_num, row['average_per_image']))\n",
    "\n",
    "        except Exception as e:\n",
    "            print(f\"Error processing {filename}: {e}\")\n",
    "\n",
    "    return total_counts, averages, classes"
   ]
  },
  {
   "cell_type": "code",
   "execution_count": 9,
   "id": "f87d8a49",
   "metadata": {},
   "outputs": [],
   "source": [
    "def prepare_plot_data(total_counts: Dict[str, List[Tuple[int, float]]],\n",
    "                     averages: Dict[str, List[Tuple[int, float]]]):\n",
    "    \"\"\"Sort and organize data for plotting.\"\"\"\n",
    "    sorted_classes = sorted(total_counts.keys())\n",
    "    all_episodes = set()\n",
    "    \n",
    "    # Sort data by episode number and collect all episodes\n",
    "    for class_name in sorted_classes:\n",
    "        total_counts[class_name].sort(key=lambda x: x[0])\n",
    "        averages[class_name].sort(key=lambda x: x[0])\n",
    "        all_episodes.update(ep for ep, _ in total_counts[class_name])\n",
    "    \n",
    "    return sorted(all_episodes), total_counts, averages"
   ]
  },
  {
   "cell_type": "code",
   "execution_count": 10,
   "id": "bfb022ff",
   "metadata": {},
   "outputs": [],
   "source": [
    "def create_subplot(ax: plt.Axes, \n",
    "                  data: Dict[str, List[Tuple[int, float]]],\n",
    "                  episodes: List[int],\n",
    "                  ylabel: str,\n",
    "                  title: str,\n",
    "                  custom_labels: Optional[Dict[int, str]] = None):\n",
    "    \"\"\"Create a single subplot with custom x-axis labels.\"\"\"\n",
    "    for class_name in sorted(data.keys()):\n",
    "        x, y = zip(*data[class_name])\n",
    "        ax.plot(x, y, label=class_name, marker='o')\n",
    "    \n",
    "    if custom_labels:\n",
    "        ax.set_xticks(episodes)\n",
    "        ax.set_xticklabels([custom_labels.get(ep, str(ep)) for ep in episodes])\n",
    "    else:\n",
    "        ax.set_xlabel('Episode Number')\n",
    "    \n",
    "    ax.set_ylabel(ylabel)\n",
    "    ax.set_title(title)\n",
    "    ax.grid(True)"
   ]
  },
  {
   "cell_type": "code",
   "execution_count": 11,
   "id": "0c9d2574",
   "metadata": {},
   "outputs": [],
   "source": [
    "def plot_summary_data(folder_path: str, \n",
    "                    custom_labels: Optional[Dict[int, str]] = None):\n",
    "    \"\"\"Main function to process data and create plots.\"\"\"\n",
    "    # Process and prepare data\n",
    "    total_counts, averages, classes = process_csv_files(folder_path)\n",
    "    if not classes:\n",
    "        print(\"No valid summary CSV files found.\")\n",
    "        return\n",
    "    \n",
    "    episodes, total_counts, averages = prepare_plot_data(total_counts, averages)\n",
    "    \n",
    "    # Create figure and subplots\n",
    "    fig, (ax1, ax2) = plt.subplots(1, 2, figsize=(14, 6))\n",
    "    \n",
    "    # Create plots\n",
    "    create_subplot(ax1, total_counts, episodes, 'Total Count', 'Total Count of Each Class', custom_labels)\n",
    "    create_subplot(ax2, averages, episodes, 'Average per Image', 'Average Occurrence per Image', custom_labels)\n",
    "    \n",
    "    # Add unified legend\n",
    "    handles, labels = ax1.get_legend_handles_labels()\n",
    "    fig.legend(handles, labels, loc='center right', bbox_to_anchor=(1.15, 0.5))\n",
    "    \n",
    "    plt.tight_layout()\n",
    "    plt.show()\n",
    "\n"
   ]
  },
  {
   "cell_type": "code",
   "execution_count": 12,
   "id": "54f5833d",
   "metadata": {},
   "outputs": [
    {
     "ename": "FileNotFoundError",
     "evalue": "[WinError 3] The system cannot find the path specified: 'youtube_frames'",
     "output_type": "error",
     "traceback": [
      "\u001b[1;31m---------------------------------------------------------------------------\u001b[0m",
      "\u001b[1;31mFileNotFoundError\u001b[0m                         Traceback (most recent call last)",
      "Cell \u001b[1;32mIn[12], line 8\u001b[0m\n\u001b[0;32m      1\u001b[0m custom_labels \u001b[38;5;241m=\u001b[39m {\n\u001b[0;32m      2\u001b[0m     \u001b[38;5;241m1\u001b[39m: \u001b[38;5;124m\"\u001b[39m\u001b[38;5;124mPilot\u001b[39m\u001b[38;5;124m\"\u001b[39m,\n\u001b[0;32m      3\u001b[0m     \u001b[38;5;241m2\u001b[39m: \u001b[38;5;124m\"\u001b[39m\u001b[38;5;124mSetup\u001b[39m\u001b[38;5;124m\"\u001b[39m,\n\u001b[0;32m      4\u001b[0m     \u001b[38;5;241m3\u001b[39m: \u001b[38;5;124m\"\u001b[39m\u001b[38;5;124mConflict\u001b[39m\u001b[38;5;124m\"\u001b[39m,\n\u001b[0;32m      5\u001b[0m     \u001b[38;5;241m4\u001b[39m: \u001b[38;5;124m\"\u001b[39m\u001b[38;5;124mResolution\u001b[39m\u001b[38;5;124m\"\u001b[39m\n\u001b[0;32m      6\u001b[0m }\n\u001b[1;32m----> 8\u001b[0m plot_summary_data(folder_path \u001b[38;5;241m=\u001b[39m \u001b[38;5;124m\"\u001b[39m\u001b[38;5;124myoutube_frames\u001b[39m\u001b[38;5;124m\"\u001b[39m,custom_labels\u001b[38;5;241m=\u001b[39mcustom_labels)\n",
      "Cell \u001b[1;32mIn[11], line 5\u001b[0m, in \u001b[0;36mplot_summary_data\u001b[1;34m(folder_path, custom_labels)\u001b[0m\n\u001b[0;32m      3\u001b[0m \u001b[38;5;250m\u001b[39m\u001b[38;5;124;03m\"\"\"Main function to process data and create plots.\"\"\"\u001b[39;00m\n\u001b[0;32m      4\u001b[0m \u001b[38;5;66;03m# Process and prepare data\u001b[39;00m\n\u001b[1;32m----> 5\u001b[0m total_counts, averages, classes \u001b[38;5;241m=\u001b[39m process_csv_files(folder_path)\n\u001b[0;32m      6\u001b[0m \u001b[38;5;28;01mif\u001b[39;00m \u001b[38;5;129;01mnot\u001b[39;00m classes:\n\u001b[0;32m      7\u001b[0m     \u001b[38;5;28mprint\u001b[39m(\u001b[38;5;124m\"\u001b[39m\u001b[38;5;124mNo valid summary CSV files found.\u001b[39m\u001b[38;5;124m\"\u001b[39m)\n",
      "Cell \u001b[1;32mIn[8], line 8\u001b[0m, in \u001b[0;36mprocess_csv_files\u001b[1;34m(folder_path)\u001b[0m\n\u001b[0;32m      5\u001b[0m classes \u001b[38;5;241m=\u001b[39m \u001b[38;5;28mset\u001b[39m()\n\u001b[0;32m      6\u001b[0m pattern \u001b[38;5;241m=\u001b[39m re\u001b[38;5;241m.\u001b[39mcompile(\u001b[38;5;124mr\u001b[39m\u001b[38;5;124m'\u001b[39m\u001b[38;5;124mep(\u001b[39m\u001b[38;5;124m\\\u001b[39m\u001b[38;5;124md+)_summary\u001b[39m\u001b[38;5;124m\\\u001b[39m\u001b[38;5;124m.csv\u001b[39m\u001b[38;5;124m'\u001b[39m)\n\u001b[1;32m----> 8\u001b[0m \u001b[38;5;28;01mfor\u001b[39;00m filename \u001b[38;5;129;01min\u001b[39;00m os\u001b[38;5;241m.\u001b[39mlistdir(folder_path):\n\u001b[0;32m      9\u001b[0m     match \u001b[38;5;241m=\u001b[39m pattern\u001b[38;5;241m.\u001b[39mmatch(filename)\n\u001b[0;32m     10\u001b[0m     \u001b[38;5;28;01mif\u001b[39;00m \u001b[38;5;129;01mnot\u001b[39;00m match:\n",
      "\u001b[1;31mFileNotFoundError\u001b[0m: [WinError 3] The system cannot find the path specified: 'youtube_frames'"
     ]
    }
   ],
   "source": [
    "\n",
    "custom_labels = {\n",
    "    1: \"Pilot\",\n",
    "    2: \"Setup\",\n",
    "    3: \"Conflict\",\n",
    "    4: \"Resolution\"\n",
    "}\n",
    "\n",
    "plot_summary_data(folder_path = \"youtube_frames\",custom_labels=custom_labels)"
   ]
  }
 ],
 "metadata": {
  "kernelspec": {
   "display_name": "geospatial",
   "language": "python",
   "name": "python3"
  },
  "language_info": {
   "codemirror_mode": {
    "name": "ipython",
    "version": 3
   },
   "file_extension": ".py",
   "mimetype": "text/x-python",
   "name": "python",
   "nbconvert_exporter": "python",
   "pygments_lexer": "ipython3",
   "version": "3.12.3"
  }
 },
 "nbformat": 4,
 "nbformat_minor": 5
}
